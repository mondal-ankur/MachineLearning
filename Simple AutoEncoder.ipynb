{
  "nbformat": 4,
  "nbformat_minor": 0,
  "metadata": {
    "colab": {
      "provenance": []
    },
    "kernelspec": {
      "name": "python3",
      "display_name": "Python 3"
    },
    "language_info": {
      "name": "python"
    }
  },
  "cells": [
    {
      "cell_type": "code",
      "source": [
        "import tensorflow as tf\n",
        "from keras.datasets import mnist\n",
        "from keras.models import Model\n",
        "from keras.layers import Dense, Input"
      ],
      "metadata": {
        "id": "1cFSJmbYYl5D"
      },
      "execution_count": 103,
      "outputs": []
    },
    {
      "cell_type": "code",
      "source": [
        "import matplotlib.pyplot as plt\n",
        "import numpy as np"
      ],
      "metadata": {
        "id": "ukG4iYVIZDNr"
      },
      "execution_count": 104,
      "outputs": []
    },
    {
      "cell_type": "code",
      "source": [
        "(xtrain, ytrain), (xtest, ytest) = mnist.load_data()"
      ],
      "metadata": {
        "id": "VBn1bIiCZIBv"
      },
      "execution_count": 105,
      "outputs": []
    },
    {
      "cell_type": "code",
      "source": [
        "plt.figure(figsize=(2,2))\n",
        "plt.imshow(xtrain[0])\n",
        "plt.gray()\n",
        "plt.show()"
      ],
      "metadata": {
        "colab": {
          "base_uri": "https://localhost:8080/",
          "height": 217
        },
        "id": "97kiCRwRZUaA",
        "outputId": "9f28abaf-f79e-4848-a74c-dff073eeeec8"
      },
      "execution_count": 106,
      "outputs": [
        {
          "output_type": "display_data",
          "data": {
            "text/plain": [
              "<Figure size 200x200 with 1 Axes>"
            ],
            "image/png": "[encoded data removed]"
          },
          "metadata": {}
        }
      ]
    },
    {
      "cell_type": "code",
      "source": [
        "# xtrain_0 = np.where(xtrain[0] != 0, 255, xtrain[0])\n",
        "\n",
        "# plt.figure(figsize=(2,2))\n",
        "# plt.imshow(xtrain_0)\n",
        "# plt.gray()\n",
        "# plt.show()"
      ],
      "metadata": {
        "id": "yiSfdCudZ2UR"
      },
      "execution_count": 107,
      "outputs": []
    },
    {
      "cell_type": "code",
      "source": [
        "xtrain = xtrain.reshape(xtrain.shape[0], 28*28)\n",
        "xtest = xtest.reshape(xtest.shape[0], 28*28)\n",
        "\n",
        "xtrain = xtrain/255\n",
        "xtest = xtest/255\n"
      ],
      "metadata": {
        "id": "IdhVoGzlaXBw"
      },
      "execution_count": 108,
      "outputs": []
    },
    {
      "cell_type": "code",
      "source": [
        "# DEFINE LAYERS\n",
        "Input_layer = Input(shape = xtrain.shape[1],\n",
        "                    name = 'inpuit')\n",
        "latent_layer = Dense(units =32,\n",
        "                     activation = 'LeakyReLU',\n",
        "                     name = 'latent')(Input_layer)\n",
        "output = Dense(units = xtrain.shape[1],\n",
        "               activation = 'sigmoid',\n",
        "               name = 'output')(latent_layer)\n",
        "\n",
        "# DEFINE AUTOENCODER\n",
        "autoencoder = Model(Input_layer, output)\n",
        "\n",
        "# DEFINE ENCODER\n",
        "encoder = Model(Input_layer, latent_layer)\n",
        "\n",
        "# DEFIEN DECODER\n",
        "decoder_in  = Input(shape = latent_layer.shape[1],\n",
        "                       name = 'decoder_input')\n",
        "decoder_out = autoencoder.layers[-1](decoder_in)\n",
        "decoder = Model(decoder_in, decoder_out)"
      ],
      "metadata": {
        "id": "qQ2UfPNdcfUF"
      },
      "execution_count": 109,
      "outputs": []
    },
    {
      "cell_type": "code",
      "source": [
        "# autoencoder.summary()"
      ],
      "metadata": {
        "id": "oT4V62gsepL6"
      },
      "execution_count": 110,
      "outputs": []
    },
    {
      "cell_type": "code",
      "source": [
        "# encoder.summary()"
      ],
      "metadata": {
        "id": "pWD3T9GSgFrK"
      },
      "execution_count": 111,
      "outputs": []
    },
    {
      "cell_type": "code",
      "source": [
        "# decoder.summary()"
      ],
      "metadata": {
        "id": "Fs_gXQ2ggNSU"
      },
      "execution_count": 112,
      "outputs": []
    },
    {
      "cell_type": "code",
      "source": [
        "# COMPILE AND TRAIN\n",
        "autoencoder.compile(optimizer = 'adam', loss = 'mse')\n",
        "history = autoencoder.fit(xtrain,\n",
        "                          xtrain,\n",
        "                          epochs = 20,\n",
        "                          batch_size = 128,\n",
        "                          shuffle=True,\n",
        "                          validation_data=(xtest, xtest))"
      ],
      "metadata": {
        "colab": {
          "base_uri": "https://localhost:8080/"
        },
        "id": "7ptSXfSPikmE",
        "outputId": "e080f137-8b31-4e70-c356-b16e7a1a9251"
      },
      "execution_count": 113,
      "outputs": [
        {
          "output_type": "stream",
          "name": "stdout",
          "text": [
            "Epoch 1/20\n",
            "469/469 [==============================] - 3s 6ms/step - loss: 0.0574 - val_loss: 0.0339\n",
            "Epoch 2/20\n",
            "469/469 [==============================] - 2s 5ms/step - loss: 0.0271 - val_loss: 0.0212\n",
            "Epoch 3/20\n",
            "469/469 [==============================] - 2s 5ms/step - loss: 0.0186 - val_loss: 0.0157\n",
            "Epoch 4/20\n",
            "469/469 [==============================] - 3s 6ms/step - loss: 0.0145 - val_loss: 0.0128\n",
            "Epoch 5/20\n",
            "469/469 [==============================] - 4s 8ms/step - loss: 0.0124 - val_loss: 0.0113\n",
            "Epoch 6/20\n",
            "469/469 [==============================] - 2s 5ms/step - loss: 0.0114 - val_loss: 0.0107\n",
            "Epoch 7/20\n",
            "469/469 [==============================] - 2s 5ms/step - loss: 0.0109 - val_loss: 0.0104\n",
            "Epoch 8/20\n",
            "469/469 [==============================] - 2s 5ms/step - loss: 0.0106 - val_loss: 0.0102\n",
            "Epoch 9/20\n",
            "469/469 [==============================] - 2s 5ms/step - loss: 0.0105 - val_loss: 0.0101\n",
            "Epoch 10/20\n",
            "469/469 [==============================] - 3s 7ms/step - loss: 0.0104 - val_loss: 0.0100\n",
            "Epoch 11/20\n",
            "469/469 [==============================] - 3s 7ms/step - loss: 0.0103 - val_loss: 0.0100\n",
            "Epoch 12/20\n",
            "469/469 [==============================] - 2s 5ms/step - loss: 0.0103 - val_loss: 0.0099\n",
            "Epoch 13/20\n",
            "469/469 [==============================] - 2s 5ms/step - loss: 0.0102 - val_loss: 0.0099\n",
            "Epoch 14/20\n",
            "469/469 [==============================] - 2s 5ms/step - loss: 0.0102 - val_loss: 0.0099\n",
            "Epoch 15/20\n",
            "469/469 [==============================] - 2s 5ms/step - loss: 0.0102 - val_loss: 0.0098\n",
            "Epoch 16/20\n",
            "469/469 [==============================] - 4s 9ms/step - loss: 0.0102 - val_loss: 0.0098\n",
            "Epoch 17/20\n",
            "469/469 [==============================] - 4s 9ms/step - loss: 0.0101 - val_loss: 0.0098\n",
            "Epoch 18/20\n",
            "469/469 [==============================] - 3s 5ms/step - loss: 0.0101 - val_loss: 0.0098\n",
            "Epoch 19/20\n",
            "469/469 [==============================] - 3s 5ms/step - loss: 0.0101 - val_loss: 0.0097\n",
            "Epoch 20/20\n",
            "469/469 [==============================] - 2s 5ms/step - loss: 0.0101 - val_loss: 0.0097\n"
          ]
        }
      ]
    },
    {
      "cell_type": "code",
      "source": [
        "# PLOT TRAINING ERROR\n",
        "plt.figure(figsize=(5,3))\n",
        "plt.plot(history.history['loss'])\n",
        "plt.title('model loss')\n",
        "plt.ylabel('loss')\n",
        "plt.xlabel('epoch')\n",
        "# plt.legend(['train', 'test'], loc='upper left')\n",
        "plt.show()"
      ],
      "metadata": {
        "colab": {
          "base_uri": "https://localhost:8080/",
          "height": 333
        },
        "id": "yO2JuMGcjtSW",
        "outputId": "0e180405-b464-43d9-bf7e-94adeae7c47b"
      },
      "execution_count": 120,
      "outputs": [
        {
          "output_type": "display_data",
          "data": {
            "text/plain": [
              "<Figure size 500x300 with 1 Axes>"
            ],
            "image/png": "[encoded data removed]"
          },
          "metadata": {}
        }
      ]
    },
    {
      "cell_type": "code",
      "source": [
        "# ENCODE AND RECONSTRUCT TEST DATA\n",
        "encoded_data = encoder.predict(xtest, batch_size = 128) # encode test data to latent dimension\n",
        "decoded_data = decoder.predict(encoded_data, batch_size = 128) # reconstruct test data from latent dimension\n",
        "print(encoded_data.shape, decoded_data.shape)\n",
        "\n",
        "# RESHAPE 1-DIMENSIONAL 'ORIGINAL' AND 'DECODED' TEST DATA TO 2-DIMENSIONAL DATA\n",
        "decoded_data = decoded_data.reshape(decoded_data.shape[0], 28, 28)\n",
        "xtest =xtest.reshape(xtest.shape[0], 28, 28)\n",
        "print(decoded_data.shape, xtest.shape)\n"
      ],
      "metadata": {
        "colab": {
          "base_uri": "https://localhost:8080/"
        },
        "id": "P-H6BOPtj2Iw",
        "outputId": "54309132-4980-43f0-d7ce-d915ed1f257c"
      },
      "execution_count": 115,
      "outputs": [
        {
          "output_type": "stream",
          "name": "stdout",
          "text": [
            "79/79 [==============================] - 0s 2ms/step\n",
            "79/79 [==============================] - 0s 2ms/step\n",
            "(10000, 32) (10000, 784)\n",
            "(10000, 28, 28) (10000, 28, 28)\n"
          ]
        }
      ]
    },
    {
      "cell_type": "code",
      "source": [
        "# VISUALIZE ACTUAL AND RECONSTRUCTED DATA\n",
        "n = 5\n",
        "plt.figure(figsize=(8, 4))\n",
        "print('Actual')\n",
        "print('Reconstructed')\n",
        "for i in range(n):\n",
        "    # ACTUAL TEST DATA\n",
        "    ax = plt.subplot(2, n, i + 1)\n",
        "    plt.imshow(xtest[i])\n",
        "    plt.gray()\n",
        "    ax.get_xaxis().set_visible(False)\n",
        "    ax.get_yaxis().set_visible(False)\n",
        "\n",
        "    # Display reconstruction\n",
        "    ax = plt.subplot(2, n, i + 1 + n)\n",
        "    plt.imshow(decoded_data[i])\n",
        "    plt.gray()\n",
        "    ax.get_xaxis().set_visible(False)\n",
        "    ax.get_yaxis().set_visible(False)\n",
        "plt.show()\n"
      ],
      "metadata": {
        "colab": {
          "base_uri": "https://localhost:8080/",
          "height": 346
        },
        "id": "bSR8MPXGo9BJ",
        "outputId": "2a271543-5532-4bd5-d131-43ef62ddffaa"
      },
      "execution_count": 116,
      "outputs": [
        {
          "output_type": "stream",
          "name": "stdout",
          "text": [
            "Actual\n",
            "Reconstructed\n"
          ]
        },
        {
          "output_type": "display_data",
          "data": {
            "text/plain": [
              "<Figure size 800x400 with 10 Axes>"
            ],
            "image/png": "[encoded data removed]"
          },
          "metadata": {}
        }
      ]
    },
    {
      "cell_type": "code",
      "source": [],
      "metadata": {
        "id": "uoyTjiTQnNgH"
      },
      "execution_count": 116,
      "outputs": []
    }
  ]
}